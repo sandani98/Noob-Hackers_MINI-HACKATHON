{
 "metadata": {
  "language_info": {
   "codemirror_mode": {
    "name": "ipython",
    "version": 3
   },
   "file_extension": ".py",
   "mimetype": "text/x-python",
   "name": "python",
   "nbconvert_exporter": "python",
   "pygments_lexer": "ipython3",
   "version": "3.9.5"
  },
  "orig_nbformat": 4,
  "kernelspec": {
   "name": "python3",
   "display_name": "Python 3.9.5 64-bit"
  },
  "interpreter": {
   "hash": "cba790f90a5c1693da64949815872a1391a216ed3eb293d49638652b557fa5c0"
  }
 },
 "nbformat": 4,
 "nbformat_minor": 2,
 "cells": [
  {
   "cell_type": "code",
   "execution_count": 1,
   "metadata": {},
   "outputs": [],
   "source": [
    "import pandas as pd\n",
    "import numpy as np\n",
    "import re\n",
    "from PIL import Image\n",
    "import pytesseract as tess\n",
    "import matplotlib.pyplot as plt\n",
    "import cv2 as cv\n",
    "from pytesseract import Output\n",
    "import re"
   ]
  },
  {
   "cell_type": "code",
   "execution_count": 18,
   "metadata": {},
   "outputs": [],
   "source": [
    "img = cv.imread(\"sample_invoice.PNG\",1)\n",
    "img2 = cv.resize(img,None,fx=2.0, fy=2.0)\n",
    "gray = cv.cvtColor(img2, cv.COLOR_BGR2GRAY)\n",
    "#cv.imshow( \"gray\" , gray)\n",
    "thresh2 = cv.adaptiveThreshold(gray, 255, cv.ADAPTIVE_THRESH_GAUSSIAN_C,cv.THRESH_BINARY, 85,11)\n",
    "\n",
    "#blur = cv.GaussianBlur(img2,(5,5),0)\n",
    "#ret3,th3 = cv.threshold(blur,0,255,cv.THRESH_BINARY+cv.THRESH_OTSU)\n",
    "\n",
    "# global thresholding\n",
    "#ret1,th1 = cv.threshold(img,127,255,cv.THRESH_BINARY)\n",
    "\n",
    "test = tess.image_to_string(img2)\n",
    "\n",
    "\n"
   ]
  },
  {
   "cell_type": "code",
   "execution_count": 6,
   "metadata": {},
   "outputs": [],
   "source": [
    "d = tess.image_to_data(gray,output_type=Output.DICT )\n",
    "n_boxes = len(d['level'])\n",
    "for i in range(n_boxes):\n",
    "\t(x, y, w, h) = (d['left'][i], d['top'][i], d['width'][i], d['height'][i])    \n",
    "img5 = cv.rectangle(gray, (x, y), (x + w, y + h), (0, 0, 255), 2)\n",
    "\n",
    "cv.namedWindow('Image2',cv.WINDOW_AUTOSIZE)\n",
    "cv.imshow('Image2', img5 )\n",
    "cv.waitKey(0)\n",
    "cv.destroyAllWindows()"
   ]
  },
  {
   "cell_type": "code",
   "execution_count": 7,
   "metadata": {},
   "outputs": [],
   "source": [
    "receipt_ocr={}"
   ]
  },
  {
   "source": [
    "Add Restuarent Name"
   ],
   "cell_type": "markdown",
   "metadata": {}
  },
  {
   "cell_type": "code",
   "execution_count": 8,
   "metadata": {},
   "outputs": [
    {
     "output_type": "stream",
     "name": "stdout",
     "text": [
      "tan woon yann\n"
     ]
    }
   ],
   "source": [
    "splits = test1.splitlines()\n",
    "for line in splits[:]:\n",
    "    if line == \"\":\n",
    "        continue\n",
    "    else:\n",
    "        restaurant_name = line\n",
    "        break\n",
    " \n",
    "print(restaurant_name)"
   ]
  },
  {
   "cell_type": "code",
   "execution_count": 4,
   "metadata": {
    "tags": [
     "outputPrepend"
    ]
   },
   "outputs": [
    {
     "output_type": "stream",
     "name": "stdout",
     "text": [
      "tal Sales (Excluding GST) : 20.00\nDiscount : 0.00\nTotalGST : 1.20\nRounding - 0.00\nTotal Sales (Inclusive of GST) : 21.20\nCASH : 21.20\nChange : 0.00\nGSTSUMMARY\nTax Code % Amt(RM) Tax (RM)\nSR 6 20.00 1.20\n\nTotal : 20.00 1.20\n\nGOODS SOLD ARE NOT RETURNABLE, THANK YOU\n\nie a np\n\f- \\ - ,\n“3 \\ 6 Q \\ 0 \\ | ‘ ‘\n\n/ SYARIKAT PERNIAGAAN GIN KEE\n\n(81109-A)\nNO 290, JALAN AIR PANAS.,\nSETAPAK,\n93200, KUALA LUMPUR.\nTEL : 03-40210276\nGST ID : 000750673920\nSIMPLIFIED TAX INVOICE\n\nCASH ————— |\n\n \n\n \n\nDocNo. - CS00012726 Date: 13/01/2018\nCashier ' USER Time: 15:52:00\nSalesperson Ref. :\njtem Oty, S/Price Amount Tax _\n1432 6 2.12 12.72 SR\nGLOVE 1200 (PER PAIR)\n— JotalQty iB TD\nTotal Sales (Excluding GST) . 12.00\nDiscount ° 0.00\nTotal GST: 0.72\nRounding : 0.00\nTotal Sales (Inclusive of GST) : 12.72\nCASH : 12:72\nChange : 0.00\n\nGSTSUMMARY } } }©}©§©—”\nTax Code * Amt(RM) Tax (RM)\nSR 6 © 12.00 0.72\n\nTotal : 12.00 0.72\nGOODS SOLD ARE NOT RETURNABLE, THANK YOU f\nll\n\f \n\nSYARIKAT PERNIAGAAN GIN KEE\n\n(81109-A)\nNO 290, JALAN AIR PANAS.\nSETAPAK,\n\n93200, KUALA LUMPUR.\nTEL | 03-40210276\n\nGST ID 000750673920\nSIMPLIFIED TAX INVOICE\n\nCASI\nDocNo ——~—~«<CS00012504 += Date’ :02/01/2018\nCashier ' USER Time: 14:49:00\nSalesperson - Ref. |\nItem Qty, Price Amount Tax _\n1762 | 7.95 7.95 SR\n17MM COMB SPANNER\n1041 2 15 90 3180 SR\n6' X 354 CORRUGATED ROOFING SHEET\nTotal Qty: 3 39.75\nTotal Sales (Excluding GST) : 37 50\nDiscount : 0.00\nTotal GST - 2.20\nRounding - 0.00\n\nTotal Sales (Inclusive of GST) : 39.75\nCASH : 39.75\nChange : 0.00\n\nGSTSUMMARY . . .}©§=©—)—..\nTax Code % Amt(RM) Tax(RM)\nSR 6 37.50 “20\n\nTotal : 37.50 2.25 |\\/\n\nGOODS SOLD ARE NO” RETURNABLE, THANK YOU\n\n_,\n\f: 20 ‘\n\nSYARIKAT PERNIAGAAN GIN KEE\n\n \n\n \n\n \n\n(81109-A)\nNO 290, JALAN AIR PANAS.\nSETAPAK.,\n63200, KUALA LUMPUR.\nTEL | 03-40210276\nGST ID : 000750673920\nSIMPLIFIED TAX INVOICE\nCASH\nDoc No CS00013254 Date: 12/02/2018\nCashiei USER Time: 15.29:00\nSalesperson Ref. :\nttem Oty, Price Amount Tax\n1921 1 §.30 5.30 SR\nNAIL (PER/PACK) - RM5\n—TotalQty 1 } }©=©§300—~CO™\nTotal Sales (Excluding GST) : 5.00\nDiscount : 0.00\nTotal GST : 0.30\nRounding . 0.00\nTotal Sales (Inclusive of GST) : 5.30\nCASH : 5.30\nChange : 0.00\nGSTSUMMARY |\nTax Code % Amt(RM) Tax(RM)\nSR 6 5.00 0.30\n\nTotal : 5.00 0.30\n\nGOODS SOLD ARE NOT RETURNABLE, THANK YOU\n\n= ee Se eee ee\n\n \n\n \n\f \n\n \n\n;}o09 0|-€\n\n  \n\nSYARIKAT PERNIAGAAN GIN KEE\n(81109-A)\nNO 290, JALAN AIR PANAS,\nSETAPAK,\n§3200, KUALA LUMPUR.\nTEL | 03-40210276\nGST ID 000750673920\nSIMPLIFIED TAX INVOICE\n\nes\n\n \n\n \n\n \n\nCASH\nDoo No. CS$00013251 Date: 12/02/2018\nCashier ' USER Time: 14:31:00\nSalesperson. Ref. :\nItem ss Qty, S/Price =Amount = Tax\n109 2 90.10 270.30 SR\n110MM X 5. 8M UNDERGROUND PIPE\n~ ‘JotalQty, 3 870 30\nTotal Sales (Excluding GST) . 255.00\nDiscount : 0.00\nTotal GST ; 15.30\nRounding - 0.00\nTotal Sales (Inclusive of GST) : 270.30\nCASH : 270.30\nChange : 0.00\nGSTSUMMARY Oe\nTax Code 4%  Amt(RM) Tax(RM)\nSR 6 255.00 15.30\nTotal : 255.00 15.30\n\n \n\nGOODS SOLD ARE NOT RETURNABLE, THANK YOU.\n\n-_,\n\fYVR O20CIG\n\n    \n\nSYARIKAT PERNIAGAAN GIN KEE\n(81109-A)\nNO 290, JALAN AIR PANAS.\nSETAPAK,\n53200, KUALA LUMPUR.\nTEL : 03-40210276\nGST ID . 000750673920\nSIMPLIFIED TAX INVOICE\n\n \n\n \n\n \n\n \n\n \n\n \n\n‘CASH\nDocNo —:~ CS00013118 Date: 03/02/2018\nCashier ' USER Time. 11:49:00\nSalesperson Ref. :\nitem ty S/Price Amount Tax _\n2786 2 4.77 954 SR\n12M WIRE ROPE CLIP\n1471 1 477 477 SR\n4\" X KINK! BRD 2 WAY SCREWDRIVER\n1943 2 23.32 4664 SR\nHOES SET\nMw Totaly 56 6095 °°\nTotal Sales (Excluding GST) - 57 50\nDiscount | 0.00\nTotalGST . 3.45\nRounding - 0.00\nTotal Sales (Inclusive of GST) : 60.95\nCASH : 60.95\nChange : 0.00\nGSTSUMMARY ts” a\n[ax Code % Amt (RM) Tax (RM)\nSR 6 97 50 3.45\nTotal : 57.50 3.45\n\niairtantpietanbasa\nGOODS SOLD ARE NOT RETURNABLE, THANK YOU\n\n \n\n_.\n\f \n\n> 1202 Ol Pe\n\nSYARIKAT PERNIAGAAN GIN KEE\n(81109-A)\nNO 290, JALAN AIR PANAS.\nSETAPAK,\n53200, KUALA LUMPUR.\nTEL : 03-40210276\nGST ID : 000750673920\nSIMPLIFIED TAX INVOICE\n\nCASH a\nDoc No. - ©S00012693 Date: 12/01/2018\nCashier | USER Time: 13:02:00\nSalesperson | Ref. :\nItem Qty $/Price Amount Tax.\n248 1 7 95 795 SR\n1 1/2\" SANCORA PAINT BRUSH\n~  JotalQty 1 F795 —\nTotal Sales (Excluding GST) ; 7.90\nDiscount : 0.00\nTotalGST : 0.45\n@ Rounding - 0.00\nTotal Sales (Inclusive of GST) : 7.95\nCASH : 7.95\nms Ou\nG\nT Amt(RM) Tax (RM) |\n: t ? 50 0 a5\n7.50 0.4u ‘}\n\nGC 205 SOLD (OT RETURNABLE THANK “Ou\n\fSYARIKAT PERNIAGAAN GIN KEE\n(81109-A)\nNO 290, JALAN AIR PANAS.\nSETAPAK.\n§3200, KUALA LUMPUR.\nTEL : 03-40210276\n\nGST ID : 000750673920\nSIMPLIFIED TAX INVOICE\n\na a nn i i rs ee\n\n \n\n \n\n \n\n‘CASH\n‘DocNo —_: CS00013066 Date. 31/01/2018 ~\nCashier - USER Time: 11 33:00\nSalesperson Ref. :\nttem ty 8/Price Amount Tax _\n1701 5 6.36 31.80 SR\n6/8 BATU (BAG)\n2167 1 50.88 50.88 SR\n4.5KG RENDEROC PLUG\nTotal Qty: 6 82 68\nTotal Sales (Excluding GST) ° 78.00\n@ Discount | 0.00\nTotal GST | 4.68\nRounding — 0.00\nTotal Sales (Inclusive of GST) : 82.68\nCASH : 82.68\nChange : 0.00\n\nGSTSUMMARY\n\nTax Code % Amt(RM) Tax(RM)\nSR 6 78.00 468\nTotal : 78.00 4.68\n\n \n\na\n\nGOODS SOLD ARE NOT RETURNABLE. THANK YOU\n\n-_\n\f \n\nSYARIKAT PERNIAGAAN GIN KEE\n(81109-A)\nNO 290, JALAN AIR PANAS,\nSETAPAK,\n53200, KUALA LUMPUR.\nTEL . 03-40210276\nGST ID : 000750673920\nSIMPLIFIED TAX INVOICE\n\n \n\nCASH oe\nDoc No ~ C$00012922 Date: 24/01/2018\nCashier ' USER Time: 10°50:00\nSalesperson | Ref. :\nItem ty, S/Price Amount Tax _\n4700 6 6.36 38.16 SR\nPASIR HALUS (GAG)\n2430 2 18.02 36.04 SR\nCEMENT (S50KG)\n~ JotalQty 8 iS\nTotal Sales (Excluding GST) : 70.00\n@ Discount - 0.00\nTotal GST - 4.20\nRounding - 0.00\nTotal Sales (Inclusive of GST) : 74.20\nCASH : 74.20\nChange : 0.00\nGSTSUMMARY |\nTax Code % Amt (RM)\nSR 6 70.00\n\nTotal : 70.00\n\n \n\n \n\nGOODS SOLD ARE NOT RETURNABLE, THANK YOU\n\nani.\n\f \n\nee EON ee a aa a a\n\nQZ1eg02.0)6 ,-' -\n\nBEYOND STS eel HARDWARE\n¢2 /)\n\n~OT 1-0-2, JL 1/50,\nQIIAMOND SQUARE,\nOFF JLN GOMBAK\n93000 KUALA LUMPUR\nTEL. | 03-402112335 FAX : 03-40223233\nIVAN_KONG12@HOTMAIL. COM\nGST ID: 001921774\n\n_TAXINVOICE\n\n \n\nDoc No. CS00065374 Date 06/02/2018\nCashier _ USIER Time. 11.14.00\nSalesperson — Ref.\n\n(GST) (GST)\nitem _ aty S/Price $/Price Amount Tax\n4437 Z 36 31 6D BY Sz\n8 GAIL WHITE CONTAINER :\n~ TotalQy: 2)!” BS BG\n\nTotal Sales (Ex: ig GST} 60.00\n\n@ Discount 0.90\nTotal (SST . 2.80\n\nRounding. 0.90\n\nTotal Sales (Inclusive of GST) : 63.60)\nCASH : 63.60)\n\nChange : 0.00\nIGSTSUMMARY  } }»}»}»}»}»}»©=©=© 2 )— |\nTax Code Yo Amt (RM) Tax ik Mi)\nSR G E0.3C 3 60 |\nTotal - 60.00 360 l\n\nGOODS SOLD ARE MOT RETURNABLE. Tri\n\nBS a as a Ai ei ct a i ge\n\n \n\n \n\f3180301\n\nRESTORAN IBRAHIM MAJU SB\nNO.2, GROUND FLOOR, JALAN REKO SENTRAL 8\nTAMAN REKO SENTRAL, 43000 KAJANG\nSELANGOR DE\nTEL : 03-87342689\nGST ID NO :000696532992\n\na a a a ee a ee ee ee ne es\n\nINVOICE # : 1-161696\n\nTIME : 19/03/2018 03:43:44 PM\nCASHIER =: JAHABA R ALI\n\nSELF SERVICE: 1000\n\nQTY DESCRIPTION PRICE AMOUNT\n1 MAKANAN 2.30 2.305S\n| MAKANAN 1.40 1.405\n1 MAKANAN 1.60 1.605\nSub Total Incl. GST RM 5.30\nRound Adjustmt RM 0.00\nTotal KM 5.30\nPayment CASH RM 10.00\nChange RM 4.70\nGST 6 % Paid RM 0.30\n\nGST ANALYSIS AMT (RM) TAX (RM)\nS26 % 5.00 0.30\nZ=0% 0.00 0,00\n\nme a\n\n19/03/2018 03:44:03 PM\n<THANK YOU >\n<PLEASE COME AGAIN>\n\f3180301\n\nfor Stef = Leary Foe Feofe\n\nFarmasi Maluri S/B(587969-U)\nGST NO: 000342237184 (1D:5033)\n23, Jin Burung Jentayu, Tmn Bukit\nMaluri, Kepong, 52100 KL.\n\nTAX INVOICE\n\nCashier : posIN M/c. ID : POS?\nReceipt : 71857936 02/03/18 05:16 PM\n\n061558 - *BMS MILK THISTLE\n\n1X 111.30 36. 75 72.35 §\n910845 - TRILON-E CRM\n\n1X 7.00 7.00 2\nTOTAL (Including GST) 79. 35\nROUNDING 0.00\nNET 79. 35\nTENDER 100. 00\nCHANGE/BALANCE 20. 65\nGST Summary Amt(Excl.Gst)  Tax(RM)\nZRL @0. 00% 7.00 0.00\n\nSR @6. 00% 68. 25 4.10\n\nGOODS SOLD ARE NON-REFUNDABLE BUT\nEXCHANGEABLE WITHIN 7 DAYS WITH\nRECEIPT PLUS GOODS ARE IN\nRESALEABLE CONDITION.\nAll face mask & injectable are\nnon-returnable & non -exchangeable\nkkKspercial oramnotion\n\fASO ELECTRICAL TRADING SDN BHD\n1000131-K\nNO 31G, JALAN SEPADU C 25/C,\nSECTION 25, TAMAN INDUSTRIES,\nAXIS 40400 SHAH ALAM, SELANGOR.\nTEL : 03-61221701, 51313091 FAX: 03-51215716\nGST NO : 000683900928\n\nTAX INVOICE\n\nBill To:\n\nReceipt #: CS00087400 Date: 27/09/2017’\nSalesperson:\n\n \n\n \n\n \n\nCashier’ USER Time: 10:51:00\nof a(GStT)mn(GST)\"\nItem Qty RSP RSP Amount\n107636 o 78.00 82.68 248.04\nSR: HAGER TIMER, 24HRS POWER RESERVE\nTOTQTY: 3 aN 248.04\n(Excluded GST) Sub Total : 234.00\nDiscount : 0.00\nTotalGST : 14.04\nRounding : 0.0'1\nTotal : 248.05\nCASH : 248.05\nChange : 0.01)\nGST SUMMARY\nTax Code % _ Amount GST\nSR 6 234.00 14.04\nBees Tota! 234.00 14.04\n\n- THANK YOU.\n\n>\n\n \n\nGOODS SOLD ARE NOT RETURNABLE,\n\f \n\n’\nahd fake\nPA ee\noe fel ges\n\" t\n\nTRI SHAAS SDN BHD (728515-M)\n\nMYDIN MART SRI MUDA\n\n4-20, Jalan Ria 25/62 Taman Sri Muda\nseksyen 23, 40400 Shah Alam Selangor\nlel : 03-51217970 Fax : 03-51218059\n\nGST ID: 000429166592\nRECEIPT\n\nTerminal; 195 - 5505P0S011\nTrans # : 322563\nHate ; 10/08/2017 03:26:21PM\nCashier : CHI07004\n\nHSM - ALMIDAH\n\nee ee me eee me ne eee ee eee et ew me ee\n\nPARTNER E/LOPE 4.5INX9.5IN W4292 EA\n\n3555023304662 2 errk 2.60\nPLASTIC BAG RMO,20 EA\n2300000017984 leet 0.20\nTEN QO E/LOPE 15INXIQIN TQ-S1015 EA\n9555073307724 ZF 2.50\nUMGE S/NT 100MX75M; N/GRN EA\n9555495401722 leet 3.00\nuIMOE S/NT 100MX75M, N/YLW EA\n5555495400985 |: sek 3.00\nUMGE S/NT SOMX38M, N/YLW EA\n4255455400961 | Ss OO\nMOE S/NTA7S5UXSOM, N/PINK EA\n, 1 £250\n\nGE55495401644.. e.\nSS See\n\nes fn eae ek\n\n  \n\nTram-Gount cf>\n\n‘otal eZ fase\nPoundtine tent’\n‘otal ALLE Rat anding\nCash\n\nCHANGE\n\nme me me ee ne re mm me ee me me ee ee ee et eee et ee we ee ee\n\nGST Rate Amt Exc] GST{RM) Tax(RM)\nC\n\n5 = 6h 20,19\nZ = Ok  Ds0e\n\nPoints Missed: 20\n\nee\n\n-——- =<\n\n_— SS ee\n\nee\n\nJoin our Meriah Loyalty Programme today!\n\ny\ni {I}\nin A\n\nPrint Date: 10/08/2017 03:26:22PM\n\nAny request for production of full tax\nInvoice or related payment information\nshall be made within 3 months from the\ndate Of purchase, failing which MYDIN at\nits absolute discretion as deem Fit may\nreject or refuse to entertain such\n\nrequest\n\nThank You and Please Come Again\n\fASO ELECTRICAL TRADING SDN BHD\n4000131-K\n\nNO 31G, JALAN SEPADU C 25/C,\nSECTION 25, TAMAN INDUSTRIES,\nAXIS 40400 SHAH ALAM, SELANGOR.\n\nTEL : 03-51221701, 51313091 FAX: 03-61215716\nGST NO: 900683900928\n\nTAX INVOICE\non ri\nBill To:\nReceipt #: Gs00093091 Date: 04/1 9/2017\nSalesperson:\n\nCashier: USER Time: 41:29:00\n\nFeed era\n(GST) (GST)\n\nitem Qty RSP RSP Amount _\n402749 1 44.40 47.06 47.06\n\nSR: FUJI CONTACTOR, SC-03. 240VAC\n106766 1 49.00 51.94 61.94\nSR: ANLY FLOATLESS RELAY 240V AFS-1\n\nay 0 OI\n\nToray: #4 99.00)\n\n(Excluded GST) Sub Total : 93.40\n\nDiscount : 0.00\n\nTotal GST : 5.60\n\nRounding : 0,00\n\nTotal : 99.09\n\nCASH : 400.01\n\nChange : 4.01)\n\nQo ee\nGST SUMMARY\n\n__Tax Code % ___Arnount GST\n\nSR 93.40 5,6)\n\nTotal : 93.40 5.60\n\nGOODS SOLD ARE NOT RETURNABLE,\nTHANK YOU.\n\nSon\n\f \n\n \n\n \n\nRESTORAN WAN SHENG\n002043319-W\nNo.2, Jalan Temenggung 19/9,\nSeksyen 9, Bandar Mahkota Cheras,\n43200 Cheras, Selangor\nGST REG NO: 001335787520\n\nTax Invoice\n\nINV No.: 1063110 Cashier: Thandar\nDate 19 03-2018 18:08:38\n\nOe\n\nee eee ed\n\nMilo (B)\n\n2 x 2. 80 5.60 SR\nTake Away\n\n2 x 0. 20 0.40 SR\nTotal QTY: 4\nTotal (Excluding GST): 5. 66\nGST payable (6%): 0, 34\nTotal (Inclusive of GST): 6. 00\n\nTOTAL: 6.00\n\nCASH 6. 00\nGST Summary Amount (RM) = Tax (RM)\n\noR (@ 6%) 5. 66 0. 34\n\n \n\n \n\f \n\nRESTORAN WAN SHENG\n002043319-W\nNo.2, Jalan Temenggung 19/9,\nSeksyen 9, Bandar Mahkota Cheras,\n43200 Cheras, Selangor\nGST REG NO: 0013357&7520\n\n \n\nTax Invoice\n\nINV No.: 1052580 Cashier: Thandar\nDate +: 19-03-2018 11:12:15\n\nee ee me hee ee ee ee me mm eee a Re eee nee ee etme ee eee ee EE eS ee ee ee ee ee ee eee\n\n_—~ eietieteietiamiaititetiaiaedeaiedete De ee ek Ln ee\n\nTeh (B)\n2 x 2.20 4.40 SR\n\nCham (B)\n\n1 x 2.20 2.20 SR\nHerbal Tea\n\n1x 1.70 1.70 SR\nTake Away\n\n4 x 0,20 0.80 SR\nTotal ‘any: 8\nTotal (Excluding GST): 8,59\nGST payable (6X); 0.51\nTotal (Inclusive of GST): 9.10\nTOTAL: 9.10\nCASH : 9.10\nGST Summary Amount(RM) — Tax(RM)\n\nSR (@ 6%) 8,59 0.51\n\n \n\n \n\f \n\n \n\n \n\nRESTORAN WAN SHENG\n002043319-W\nNo.2, Jalan Temenggung 19/9,\nSeksyen 9, Bandar Mahkota Cheras,\n43200 Cheras, Selangor\nGST REG NO; 001335787520\n\nTax Invoice\n\nINV No.: 1044120 Cashier: Thandar\nDate : 14-03-2018 10:06:20\n\nlite ieee tee eee ee ee ee eee\n\nSe ee ee ee ee re a Se St re ae re ee tee ee ee ee ee ee ee ee ee ee ee ee ee ee ee ee\n\nKopi (B)\n\n1 x 2.20 2.20 SR\nCham (B)\n\n1 x 2.20 2.20 SR\nTake Away\n\n2 X 0,20 0.40 SR\nTotal QTY: 4\nTotal (Excluding GST): 4,54\nGST payable (6%): 0.26\nTotal (Inclusive of GST); 4,80\nTOTAL : 4.80\nCASH ; 4,80\n\nee ee ee re ee ee mre ee me ee Sr Se RE Se St ee te Se Se ee ee ate ee ee ne ee Ge GY Ge ee\n\nGST Summary Amount(RM) = Tax(RM)\nSR (@ 6X) 4,54 0,26\n\f \n\n \n\n \n\nRESTORAN WAN SHENG\n002043319-W\nNo.2, Jalan Temenggung 19/9,\nSeksyen 9, Bandar Mahkota Cheras,\n43200 Cheras, Selangor\nGST REG NO: 001335787520\n\nTax Invoice\n\nINV No.: 1054650 Cashier: Nicole\nDate +: 21-03-2018 16:08:24\n\na ei iene\n\nee ed\n\n2 x 2,20 4.40 SR\n1 x 1.70 1.70 SR\n\nBunga Kekwa\n\nTake Away\n\n3 x 0.20 0.60 SR\nTotal Q\nTota] ae lading GST): 6.33\nGST payable (6%): 0,37\nTotal (Inclusive of GST): 6,70\nTOTAL: 6.70\nCASH : 6.70\n\nRe ee ee me er me mee me eee ee ee ee te rm ere ete etter me eee ee me ere re etre ee cate ee ee ete eee ee nee toe\n\nGST Summary Amount(RM) = Tax(RM)\nSR (@ 6%) 6.33 0,37\n\n_ =\n\f \n\n \n\nRESTORAN WAN SHENG\n002043319-W\nNo.2, Jalan Temenggung 19/9,\nSeksyen 9, Bandar Mahkota Cheras,\n43200 Cheras, Selangor\nGST REG NO: 001335787520\n\nTax Invoice\n\nINV No.; 1047523 Cashier: Thandar\nDate : 16-03-2018 12:07:10\n\nOe ——_— Lt th i a a ‘li\n\nme ee me ee ee er mr ee ame me re rere me ete meme me me fem ie tee a ee a eee ee ee tee ee ee ee\n\nKopi (B)\nx 2.20 2.20 SR\nTeh (B)\n1 x 2.20 2.20 SR\nCham (B)\nx 2.20 4.40 SR\nTake Away\n4 x 0,20 0.80 SR\nTotal QTY: 8\nTotal (Excluding GST): 9.07\nGST payable (6%): 0.53\nTotal (Inclusive of GST): 9,60\nTOTAL: 9.60\nCASH : Q, 60\n\nI I ee —— ee ee ee ee eee ee ee ee ee ee eee ee\n\nGST Summary Amount (RM) Tax(RM)\nSR (@ 6%) 9.07 0,53\n\n \n\f \n\nRESTORAN WAN SHENG\n002043319-W\nNo.2, Jalan Temenggung 19/9,\nSeksyen 9, Bandar Mahkota Cheras,\n43200 Cheras, Selangor\nGST REG NO: 001335787520\n\nTax Invoice\n\nINV No.: 1040841 Cashier: Thandar\nDate : 12-03-2018 10:13:04\n\nee\n\nSe me rm re re ee me tree ree mt mm tre ce ete tr tr teety ent See ttre Se eit nee ee et tee eee ae te ee\n\nCham (B)\n\nRoti Steam\n\nx 1,10 2.20 SR\nTake Away\n\nX 0,20 0.40 SR\nTotal QTY: 6\nTotal (Excluding GST): 6.62\nGST payable (6X): 0,38\nTotal (Inclusive of GST): 7.00\nTOTAL: 7.00\nCASH : 7,00\n\ntm ee re ee mm ee tte ree mee re re et mre mere Se crm ete rrr rer re HE tte ey err seme Fr en ne etme ere Sette eee ett tee eee\n\nGST Summary Amount(RM)  Tax(RM)\nSR (@ 6%) 6,62 0.38\n\f \n\nRESTORAN WAN SHENG\n002043319-W\nNo.2, Jalan Temenggung 19/9,\nSeksyen 9, Bandar Mahkota Cheras,\n43200 Cheras, Selangor\nGST REG NO: 001335787520\n\nTax Invoice\n\nINV No.: 1044151 Cashier: Thandar\nDate : 14-03-2018 10:22:59\n\nee em Re me ee FE SR mE Serene Se Sete GE Se te te te ee ee GE SE GEE A Se Gn ee SE SS te ee ne te\n\nee ee ee re eee re rere ree terme ee ee Sat te Se ee Se ee Ree SR Se Ge en ne ee te ee ee\n\nKopi O (B)\n1 Xx 2.10 2.10 SR\n\nTake Away\n1 x 0,20 0.20 SR\nTotal QTY: 2\nTotal (Excluding GST): 2.17\n— GST payable (6%): 0.13\nTotal (Inclusive of GST); 2,30\nTOTAL : 2.30\nCASH : 2.30\n\nee ee ee ORE SE SE EE RE ee me me ee SE SE GE ne ae Se ee ee ce ee A EE YS Se en ee\n\nGST Summary Amount(RM)  Tax(RM)\nSR (@ 6%) elk 0.13\n\n \n\n \n\n \n\f \n\n \n\n  \n\nKESTURAN WAN SHENG\n002043319 -\nNo.2, Jalan Temenggung 19/9,\nSeksyen 9, Bandar Mahkota Cheras,\n43200 Cheras, Selangor\nGST REG NO; 001335787520\n\nTax Invoice\n\nINV No. 1030720 Cashier: Nicole\npave : 05- Os: 2018 9s 02: 50\n\nDescrIpt on ‘ty u price Total TAK\n\nMilo (B)\n\nZk 2.80 5.60 SR\nTake Away\n\n2 K 0.20 U,du SR\ntotal ary: 4\nTotal (Excluding GST): 5.66\nGST payable (6%): 0.34\nTotal (Inclusive of GST): 6.00\nTOTAL : 6.00\nCASH 6.00\n\nme oe Se ee ——\n\n \n\nGST Summary Amount (RM) ~ Tax(RM)\nSR (@ 6%) 5 66 0.34\n\n  \n\f \n\n118\n\nGerbang Alaf Restaurants Sdn Bhd\n(65351-M)\nLicensee of McDonald’s\nLevel 6, Bangunan TH, Damansara Uptown3\nNo.3, Jalan SS21/39,47400 Petaling Jaya\nSelangor\n(GST ID No: 000504664064)\nMcDonald’s Shel] Mahkota Cheras DT (#36\nTel No. 03-9010-9849\nTAX INVOICE\n\nMFY Side 1\n\nINV# 003621900066840\nORD #18 -REG #19- 21/03/2018 19:53:23\n\nQTY ITEM TOTAL\n1 M McChicken 9.50\n1 M Coke\n1 M Fries\n1 McChicken 5.00\n1 9Nuggets 10.90\n\n1 Sweet and Sour Sauce\n1 Barbecue Sauce\n\nTakeOut Total (incl) GST) 25.40\nTotal Rounded 25.40\nCash Tendered 26.00\nChange 0.60\nTOTAL INCLUDES 6% GST 1.44\n\nSS\n\nThank You and Please Come Again.\nGuest Relations Center : 1300-13-1300\n\n \n\f107\n\nGerbang Alaf Restaurants Sdn Bhd\n(65351~M)\n\nformerly known as\nGolden Arches Restaurants Sdn Bhd\nLicensee of McDonald’s\nLevel 6, Bangunan TH, Damansara \\otown3\nNo.3, Jalan $S21/39,47400 Petaling Java\n\nserangor\n(GST ID No: 000504664064 }\nMcDonald’s Shel] Mahkota Cheras DY (#36\nTel No. 03-9010-9849\n\nTAX INVOICE\n\n  \n  \n \n \n \n   \n  \n   \n   \n    \n  \n\nMFY Side 1\n\nINV# 003621900059183\n\nORD #07 -REG #19- 10/03/2018 17:24:07\nQTY ITEM TOTAL\n1 M Coke 3,50\n1 McChicken 5.00\n\nTakeOut Total (incl GST) 8.50\nTota! Rounded 8.50\nCash Tendered 50.00\nChange 41,50\n\nTOTAL INCLUDES 6% GST 0.48\n\nLE ER ee ee Re ne ee Ee Ee SE Ee SS Se SE OE Ee ee me oe SY ee\n\nThank You and Please Come Again.\n\f \n\nPappaRich BMC\nNO.19 & 21\nJALAN TEMENGGUNG 23/9\nBANDAR MAHKOTA CHERAS\n43200 SELANGOR DARUL EHSAN, MALAYSIA\n\nTAX rene\nGST ID:00016 4 27 70080\n2 COUNTER] 2003 sai ful\nChk 263370 Guest |\n24 Mar 18 09:12:41 PM\n\nTBL3S / 1\n\n08 ee ee ee ee ee ee ee —— oo ow oe —— ——— = Oe ee ee eee ee See me Oe cee ee\n\n} 028 MILO D0: NOL) 7.45 §\n2 RO3 N’ LEMAK+fc E @17.83 35.66 §\n1 N22 SPRG NOLt+sutcr E 9.34 §\n|} BO2 HALF BL EGG E 4.53 §\n1 DI9 CHAM (I) E 5.07 ©\nCASH 73.00\n62.55\nSubtota| 62.55\n104 Srv Chg 6.25\n6% GST 4.13\nTotal: 72.93\nRND ADJ 0.02\nTTL ATF RNOD 72.95\nPayment 73.00\nChange Due. 0.05\n\n----2003 CLOSED 24 Mar 18 09:58:26 PM---\nTHANK YOU! PLEASE COME AGAIN!\nPRICE 1S GST INCLUSIVE\n\nGSTSummary Amount(RM) GST(RM)\nS=GST @6%: 68.82 4.13\nZ=GST @0%: 0.00 0.00\n\n \n\n \n\f \n\n \n\nSUSHI MENTAI - MAHKOTA CHERAS\nMIZU MENTAI SDN. BHD. (1248446-V)\nNO: 1~1&2 GROUND FLOOR,\nJLN TEMENGGUNG 13/9,\n43200 CHERAS SELANGOR,\n(GST Reg. No ; 001375580160)\n\nTax Invoice\n\nTable 9\n\nOrder#: 114105\n\nBill#: V042~ 513777 Pax(s): 0\nDate : 31-03-2018 18:12:41\nCashier: SOFYA\n\nLL A a a ch A A A a Sh se\n\niti ee ee ee ee\n\nBl Green Tea\n\n2 xX 1.00 2.00 SR\nN8 Shiro Ramen\n\n1 x 12.80 12.80 SR\nRS Unagi Don\n\n1 x 19.80 19,80 SR\nF8 Tori Karaage\n\n1 x 8.80 8.80 SR\n$BO1 Sushi Yellow\n\n4 x\nSB02 Sushi Red\n\nTota) (Excluding GST): 56.20\nServ. Charge (10%): 5 62\nGST Payable: 3.71\nTota) (Inclusive of GST): 65.53\nRounding Adj: 0.02\n\nLS ee ee ee ee EE EE Re Nee a ee A ee SE RAE RS SE NE eR re SE AE Ae Se\n\nClosed: 3201710016 31-03-2018 18:43:22\nserver: SOFYA\n\nVISA 65,55\n\nGST Summary Amount(RM) § Tax(RM)\n\nSR (@ 6%) 61.82 3.71\nThank you!!!\n\nPlease Come Again!!!\nPowered By WWW.SISPOS.COM.MY\n\ni\n\fGerbang Alaf Restaurants Sdn Bhd\n(65351-M)\nLicensee of McDonald's\nLevel’6, Bangunan TH, Damansara Uptown3\nNo.3, Jalan $$21/39,47400 Petaling Jaya\n. Selangor\n(GST ID No: 000504664064)\nMcDonald's Rawang DT(#188)\nTel No. 03-6092-1968\nlV TAX INVOICE\n\nMFY Side 1\n\nINV# 001881904580783\nORD #70 -REG #19- 18/03/2018 23:02:16\n\nGTY ITEM TOTAL\n1 L McChicken 11.10\n1 L Coke\n1 L Fries\n~ 2 Smal] Cone 2.00\nTakeOut Total (incl GST) 13.10\nTotal Rounded 13.10\nCash Tendered 20.00\nChange 6.90\nTOTAL INCLUDES 6% GST 0.74\n\nink You and Please Come Again.\nGuest Relations Center : 1300-13-1300\n\f \n\nHAPPY SNACKS ENTERPRISE\n. 002022599 - U)\n\n19 & 19A , JALAN MERANTI 2A , SEKSYEI\nBANDAR BARU BATANG KALI, 44300\n03-60570314\n\nipysnacks69@hotmail.com\n\nBIT No~ : HPO1-188357\nDate : 20/03/2018 1:11:38 PM\nCashier : 123\nTax Invoice\nDescription Qty Price Amount\n1 SK 9556173380636 1 “401° Yeetce\n*350PCS FRUIT PLUS - APPLE\n2 SR 9556296307411 1. 12.51 12.51\n300PCS LOT100 CANDY - ASSORTED\noe ee ee Total: 36-82\naunepreieinll 0.00\nfotal Sales Inclusive GST : 26.82\nRounding Adjustment: -0.02\nAmount To Be Paid : 26.80\nCash Received : 50.00\nChange : 23.20\nGST Summary\nTax Code % Taxable Amount GST\nSR 6.00 25.30 1.52\nGST: 1.52\n\n* GST Include Item\n\nThank You. Please Come Again.\n\n, + ieee sa a, elt ee te.\n\f\n"
     ]
    }
   ],
   "source": [
    " test2 =\"\"\n",
    " for imge in range(100,150):\n",
    "    num = str(imge) + \".jpg\"\n",
    "    img3 = cv.imread(num,1)\n",
    "    img4 = cv.resize(img3,None,fx=2.0, fy=2.0)\n",
    "    test1= tess.image_to_string(img4)\n",
    "    test2= test2 + test1\n",
    "print(test2)"
   ]
  },
  {
   "source": [
    "Total Qty"
   ],
   "cell_type": "markdown",
   "metadata": {}
  },
  {
   "cell_type": "code",
   "execution_count": 36,
   "metadata": {},
   "outputs": [
    {
     "output_type": "stream",
     "name": "stdout",
     "text": [
      "2\n"
     ]
    }
   ],
   "source": [
    "splits = test2.splitlines()\n",
    "\n",
    "lines_with_total_qty = \"\"\n",
    "for line in splits:\n",
    "  if re.search(r'Qty',line):\n",
    "    lines_with_total_qty=line\n",
    "    seq = lines_with_total_qty.split(\" \")\n",
    "    total_qty = seq[-1]\n",
    "    print(total_qty)\n"
   ]
  },
  {
   "source": [
    "Iteam Count"
   ],
   "cell_type": "markdown",
   "metadata": {}
  },
  {
   "cell_type": "code",
   "execution_count": 10,
   "metadata": {},
   "outputs": [],
   "source": [
    "splits = test2.splitlines()\n",
    "\n",
    "lines_with_item_count = \"\"\n",
    "for line in splits:\n",
    "  if re.search(r'Iteam Count',line):\n",
    "    lines_with_item_count=line\n",
    "    seq = lines_with_item_count.split(\" \")\n",
    "    for charactors in seq:\n",
    "        try:\n",
    "            char = int(charactors) \n",
    "            total_item_count = char\n",
    "            print(total_item_count)\n",
    "        except :\n",
    "            continue \n",
    "   "
   ]
  },
  {
   "cell_type": "code",
   "execution_count": null,
   "metadata": {},
   "outputs": [],
   "source": [
    "splits = test2.splitlines()\n",
    "\n",
    "lines_with_discount = \"\"\n",
    "for line in splits:\n",
    "  if re.search(r'Discount',line):\n",
    "    lines_with_discount=line\n",
    "    seq = lines_with_discount.split(\" \")\n",
    "    discount = seq[-1]\n",
    "    print(discount)"
   ]
  }
 ]
}