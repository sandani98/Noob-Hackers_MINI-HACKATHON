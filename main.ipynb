{
 "metadata": {
  "language_info": {
   "codemirror_mode": {
    "name": "ipython",
    "version": 3
   },
   "file_extension": ".py",
   "mimetype": "text/x-python",
   "name": "python",
   "nbconvert_exporter": "python",
   "pygments_lexer": "ipython3",
   "version": "3.7.8"
  },
  "orig_nbformat": 4,
  "kernelspec": {
   "name": "python3",
   "display_name": "Python 3.7.8 64-bit ('cv': venv)"
  },
  "interpreter": {
   "hash": "acb22a8b69de88320319ef34cebc68b783b44c7a14d82e341757e6edeba099a7"
  }
 },
 "nbformat": 4,
 "nbformat_minor": 2,
 "cells": [
  {
   "cell_type": "code",
   "execution_count": 1,
   "metadata": {},
   "outputs": [],
   "source": [
    "import pandas as pd\n",
    "import numpy as np\n",
    "import re\n",
    "from PIL import Image\n",
    "import pytesseract\n",
    "import matplotlib.pyplot as plt\n",
    "import cv2"
   ]
  },
  {
   "cell_type": "code",
   "execution_count": 2,
   "metadata": {},
   "outputs": [],
   "source": [
    "img = cv2.imread('sample_invoice.PNG')\n",
    "img2 = cv2.resize(img ,None,fx=1.5,fy=1.5)\n",
    "gray = cv2.cvtColor(img2,cv2.COLOR_BGR2GRAY)\n",
    "adaptive = cv2.adaptiveThreshold(gray,255,cv2.ADAPTIVE_THRESH_GAUSSIAN_C,cv2.THRESH_BINARY,87,11)"
   ]
  },
  {
   "cell_type": "code",
   "execution_count": 4,
   "metadata": {},
   "outputs": [],
   "source": [
    "cv2.namedWindow('Image',cv2.WINDOW_AUTOSIZE)\n",
    "cv2.imshow('Image',adaptive)\n",
    "cv2.waitKey(0)\n",
    "cv2.destroyAllWindows()\n"
   ]
  },
  {
   "cell_type": "code",
   "execution_count": 7,
   "metadata": {},
   "outputs": [
    {
     "output_type": "stream",
     "name": "stdout",
     "text": [
      "   \n   \n \n \n\nyo.\nRAGA PHARMACY\n0:75, KANOY ROAD, KADAWATHA,\n7 TEL n O12 92196\n\n« Units 3 Date/Time:27/01/2021 07:06:46 Pt\nCashier: KAUSHALYA Receipt No:00000139N\nSH 5 LEDSS ~ ESHARA\n\n \n\n \n\na MEGAMAK FISH OIL\nN43 MAS (60. O00 & 27, oe 40\nSB TW os TBM\n\n— oQ 2 ewonsns 7 4\nTRIER MBER A\n\n(C) Biz Net Teclmalogies - eras :\n\f\n"
     ]
    }
   ],
   "source": [
    "text = pytesseract.image_to_string(adaptive)\n",
    "print(text)"
   ]
  },
  {
   "cell_type": "code",
   "execution_count": null,
   "metadata": {},
   "outputs": [],
   "source": []
  }
 ]
}