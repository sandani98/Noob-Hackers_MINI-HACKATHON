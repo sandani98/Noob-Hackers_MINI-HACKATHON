{
 "metadata": {
  "language_info": {
   "codemirror_mode": {
    "name": "ipython",
    "version": 3
   },
   "file_extension": ".py",
   "mimetype": "text/x-python",
   "name": "python",
   "nbconvert_exporter": "python",
   "pygments_lexer": "ipython3",
   "version": "3.7.8"
  },
  "orig_nbformat": 4,
  "kernelspec": {
   "name": "python3",
   "display_name": "Python 3.7.8 64-bit ('cv': venv)"
  },
  "interpreter": {
   "hash": "acb22a8b69de88320319ef34cebc68b783b44c7a14d82e341757e6edeba099a7"
  }
 },
 "nbformat": 4,
 "nbformat_minor": 2,
 "cells": [
  {
   "cell_type": "code",
   "execution_count": 1,
   "metadata": {},
   "outputs": [],
   "source": [
    "import pandas as pd\n",
    "import numpy as np\n",
    "import re\n",
    "from PIL import Image\n",
    "import pytesseract\n",
    "import matplotlib.pyplot as plt\n",
    "import cv2\n",
    "import os,glob"
   ]
  },
  {
   "source": [
    "# Writing the ocr strings to seperate text files"
   ],
   "cell_type": "markdown",
   "metadata": {}
  },
  {
   "cell_type": "code",
   "execution_count": 63,
   "metadata": {},
   "outputs": [],
   "source": [
    "'''path = '../data/img'\n",
    "tempPath =\"../data/text\"\n",
    "for imageName in os.listdir(path):\n",
    "    inputPath = os.path.join(path, imageName)\n",
    "    img = cv2.imread(inputPath)\n",
    "    img2 = cv2.resize(img ,None,fx=1.5,fy=1.5)\n",
    "    gray = cv2.cvtColor(img2,cv2.COLOR_BGR2GRAY)\n",
    "    adaptive = cv2.adaptiveThreshold(gray,255,cv2.ADAPTIVE_THRESH_GAUSSIAN_C,cv2.THRESH_BINARY,87,11)\n",
    "\n",
    "    text = pytesseract.image_to_string(adaptive)\n",
    "\n",
    "    #imagePath = imagePath[0:-4]\n",
    "\n",
    "    fullTempPath = os.path.join(tempPath, imageName+\".txt\")\n",
    "\n",
    "    # saving the  text for every image in a separate .txt file\n",
    "    file1 = open(fullTempPath, \"w\")\n",
    "    file1.write(text)\n",
    "    file1.close() '''"
   ]
  },
  {
   "source": [
    "# Reading the text files and create the features dataframe"
   ],
   "cell_type": "markdown",
   "metadata": {}
  },
  {
   "cell_type": "code",
   "execution_count": 131,
   "metadata": {},
   "outputs": [],
   "source": [
    "receipt_ocr = {}\n",
    "date_lst=[]\n",
    "time_lst=[]"
   ]
  },
  {
   "cell_type": "code",
   "execution_count": 132,
   "metadata": {},
   "outputs": [],
   "source": [
    "txtFilePath =\"../data/text\"\n",
    "for fileName in os.listdir(txtFilePath):\n",
    "    FilePath = os.path.join(txtFilePath, fileName)\n",
    "    f=open(FilePath,'r')\n",
    "    k=''\n",
    "    for line in f:\n",
    "        l=line\n",
    "        k+=l\n",
    "\n",
    "    date_pattern = r'(0[1-9]|[12][0-9]|3[01])([/]|[-])(0[1-9]|1[012])([/]|[-])(19|20)\\d\\d'\n",
    "    date = re.search(date_pattern, k)\n",
    "    if type(date) != type(None):\n",
    "        date =  date.group()\n",
    "    date_lst.append(date)\n",
    "\n",
    "    time_pattern = r'(\\d\\d|\\d)[:](\\d\\d)[:](\\d\\d)'\n",
    "    time = re.search(time_pattern, k)\n",
    "    if type(time) != type(None):\n",
    "        time =  time.group()\n",
    "    time_lst.append(time)\n"
   ]
  },
  {
   "cell_type": "code",
   "execution_count": 133,
   "metadata": {},
   "outputs": [],
   "source": [
    "receipt_ocr['date'] = date_lst\n",
    "receipt_ocr['time'] = time_lst"
   ]
  },
  {
   "cell_type": "code",
   "execution_count": 135,
   "metadata": {},
   "outputs": [],
   "source": [
    "df_features = pd.DataFrame(receipt_ocr)"
   ]
  },
  {
   "cell_type": "code",
   "execution_count": 136,
   "metadata": {},
   "outputs": [
    {
     "output_type": "execute_result",
     "data": {
      "text/plain": [
       "           date      time\n",
       "0    25/12/2018   8:13:39\n",
       "1    19/10/2016  20:49:59\n",
       "2          None      None\n",
       "3    25/12/2018      None\n",
       "4          None      None\n",
       "..          ...       ...\n",
       "596  05-06-2018  20:23:14\n",
       "597  22-05-2018  19:54:52\n",
       "598  28-05-2018  23:28:57\n",
       "599  19-05-2018  12:46:58\n",
       "600  09/05/2018   1:12:43\n",
       "\n",
       "[601 rows x 2 columns]"
      ],
      "text/html": "<div>\n<style scoped>\n    .dataframe tbody tr th:only-of-type {\n        vertical-align: middle;\n    }\n\n    .dataframe tbody tr th {\n        vertical-align: top;\n    }\n\n    .dataframe thead th {\n        text-align: right;\n    }\n</style>\n<table border=\"1\" class=\"dataframe\">\n  <thead>\n    <tr style=\"text-align: right;\">\n      <th></th>\n      <th>date</th>\n      <th>time</th>\n    </tr>\n  </thead>\n  <tbody>\n    <tr>\n      <th>0</th>\n      <td>25/12/2018</td>\n      <td>8:13:39</td>\n    </tr>\n    <tr>\n      <th>1</th>\n      <td>19/10/2016</td>\n      <td>20:49:59</td>\n    </tr>\n    <tr>\n      <th>2</th>\n      <td>None</td>\n      <td>None</td>\n    </tr>\n    <tr>\n      <th>3</th>\n      <td>25/12/2018</td>\n      <td>None</td>\n    </tr>\n    <tr>\n      <th>4</th>\n      <td>None</td>\n      <td>None</td>\n    </tr>\n    <tr>\n      <th>...</th>\n      <td>...</td>\n      <td>...</td>\n    </tr>\n    <tr>\n      <th>596</th>\n      <td>05-06-2018</td>\n      <td>20:23:14</td>\n    </tr>\n    <tr>\n      <th>597</th>\n      <td>22-05-2018</td>\n      <td>19:54:52</td>\n    </tr>\n    <tr>\n      <th>598</th>\n      <td>28-05-2018</td>\n      <td>23:28:57</td>\n    </tr>\n    <tr>\n      <th>599</th>\n      <td>19-05-2018</td>\n      <td>12:46:58</td>\n    </tr>\n    <tr>\n      <th>600</th>\n      <td>09/05/2018</td>\n      <td>1:12:43</td>\n    </tr>\n  </tbody>\n</table>\n<p>601 rows × 2 columns</p>\n</div>"
     },
     "metadata": {},
     "execution_count": 136
    }
   ],
   "source": [
    "df_features"
   ]
  },
  {
   "cell_type": "code",
   "execution_count": 141,
   "metadata": {},
   "outputs": [
    {
     "output_type": "stream",
     "name": "stdout",
     "text": [
      "    file_name   total\n0    000.json    9.00\n1    001.json   60.30\n2    002.json   33.90\n3    003.json   80.90\n4    004.json   30.90\n..        ...     ...\n596  596.json   52.00\n597  597.json   71.00\n598  598.json  112.35\n599  599.json   42.40\n600  600.json    4.70\n\n[601 rows x 2 columns]\n"
     ]
    }
   ],
   "source": [
    "import pandas as pd\n",
    "results = pd.read_json (r'results-all.json')\n",
    "print (results)"
   ]
  },
  {
   "cell_type": "code",
   "execution_count": 138,
   "metadata": {},
   "outputs": [
    {
     "output_type": "stream",
     "name": "stdout",
     "text": [
      "2\n"
     ]
    }
   ],
   "source": [
    "# check missing values\n",
    "\n",
    "num_of_null_columns = len([col for col in df_features.columns if sum(df_features[col].isnull())])\n",
    "print(num_of_null_columns)"
   ]
  },
  {
   "cell_type": "code",
   "execution_count": 140,
   "metadata": {},
   "outputs": [
    {
     "output_type": "stream",
     "name": "stdout",
     "text": [
      "0\n"
     ]
    }
   ],
   "source": [
    "# check for duplications\n",
    "\n",
    "df_features_len_before = len(df_features)\n",
    "df_features.drop_duplicates()\n",
    "df_features_len_after = len(df_features)\n",
    "print(df_features_len_before-df_features_len_after)"
   ]
  },
  {
   "source": [
    "# Split the data into training and validation"
   ],
   "cell_type": "markdown",
   "metadata": {}
  },
  {
   "cell_type": "code",
   "execution_count": 142,
   "metadata": {},
   "outputs": [],
   "source": [
    "X = df_features.copy()\n",
    "y = results['total']"
   ]
  },
  {
   "cell_type": "code",
   "execution_count": 144,
   "metadata": {},
   "outputs": [
    {
     "output_type": "execute_result",
     "data": {
      "text/plain": [
       "           date      time\n",
       "0    25/12/2018   8:13:39\n",
       "1    19/10/2016  20:49:59\n",
       "2          None      None\n",
       "3    25/12/2018      None\n",
       "4          None      None\n",
       "..          ...       ...\n",
       "596  05-06-2018  20:23:14\n",
       "597  22-05-2018  19:54:52\n",
       "598  28-05-2018  23:28:57\n",
       "599  19-05-2018  12:46:58\n",
       "600  09/05/2018   1:12:43\n",
       "\n",
       "[601 rows x 2 columns]"
      ],
      "text/html": "<div>\n<style scoped>\n    .dataframe tbody tr th:only-of-type {\n        vertical-align: middle;\n    }\n\n    .dataframe tbody tr th {\n        vertical-align: top;\n    }\n\n    .dataframe thead th {\n        text-align: right;\n    }\n</style>\n<table border=\"1\" class=\"dataframe\">\n  <thead>\n    <tr style=\"text-align: right;\">\n      <th></th>\n      <th>date</th>\n      <th>time</th>\n    </tr>\n  </thead>\n  <tbody>\n    <tr>\n      <th>0</th>\n      <td>25/12/2018</td>\n      <td>8:13:39</td>\n    </tr>\n    <tr>\n      <th>1</th>\n      <td>19/10/2016</td>\n      <td>20:49:59</td>\n    </tr>\n    <tr>\n      <th>2</th>\n      <td>None</td>\n      <td>None</td>\n    </tr>\n    <tr>\n      <th>3</th>\n      <td>25/12/2018</td>\n      <td>None</td>\n    </tr>\n    <tr>\n      <th>4</th>\n      <td>None</td>\n      <td>None</td>\n    </tr>\n    <tr>\n      <th>...</th>\n      <td>...</td>\n      <td>...</td>\n    </tr>\n    <tr>\n      <th>596</th>\n      <td>05-06-2018</td>\n      <td>20:23:14</td>\n    </tr>\n    <tr>\n      <th>597</th>\n      <td>22-05-2018</td>\n      <td>19:54:52</td>\n    </tr>\n    <tr>\n      <th>598</th>\n      <td>28-05-2018</td>\n      <td>23:28:57</td>\n    </tr>\n    <tr>\n      <th>599</th>\n      <td>19-05-2018</td>\n      <td>12:46:58</td>\n    </tr>\n    <tr>\n      <th>600</th>\n      <td>09/05/2018</td>\n      <td>1:12:43</td>\n    </tr>\n  </tbody>\n</table>\n<p>601 rows × 2 columns</p>\n</div>"
     },
     "metadata": {},
     "execution_count": 144
    }
   ],
   "source": []
  },
  {
   "cell_type": "code",
   "execution_count": 145,
   "metadata": {},
   "outputs": [],
   "source": [
    "from sklearn.model_selection import train_test_split\n",
    "X_train,X_val,y_train,y_val = train_test_split(X,y,train_size=0.8,random_state=0)"
   ]
  },
  {
   "cell_type": "code",
   "execution_count": null,
   "metadata": {},
   "outputs": [],
   "source": [
    "from sklearn.impute import SimpleImputer\n",
    "\n",
    "# Imputation\n",
    "my_imputer = SimpleImputer()\n",
    "imputed_X_train = pd.DataFrame(my_imputer.fit_transform(X_train))\n",
    "imputed_X_valid = pd.DataFrame(my_imputer.transform(X_valid))\n",
    "\n",
    "# Imputation removed column names; put them back\n",
    "imputed_X_train.columns = X_train.columns\n",
    "imputed_X_valid.columns = X_valid.columns"
   ]
  }
 ]
}